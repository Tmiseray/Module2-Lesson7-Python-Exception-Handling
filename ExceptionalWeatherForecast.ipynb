{
 "cells": [
  {
   "cell_type": "code",
   "execution_count": null,
   "metadata": {},
   "outputs": [],
   "source": [
    "# 1. Exceptional Weather Forecast\n",
    "\n",
    "# Objective: The aim of this assignment is to enhance your understanding of exception handling by creating a weather forecast application that gracefully handles unexpected user input and provides user-friendly error messages.\n",
    "\n",
    "# Task 1: Start \n",
    "# Begin by asking the user to enter the temperature in Fahrenheit.\n",
    "\n",
    "# Task 2: Temperature Conversion \n",
    "# Write a function that converts the Fahrenheit temperature to Celsius. Remember that the formula is (Fahrenheit - 32) * 5/9.\n",
    "\n",
    "# Use a try block to catch any potential errors during the conversion process. What happens if they type out \"thirty\" instead of doing 30?\n",
    "\n",
    "# Task 3: User Experience \n",
    "# Implement an else block that prints the converted temperature in a user-friendly format. \n",
    "\n",
    "# Example: \"100 degrees Fahrenheit is 37.78 degrees Celsius.\"\n",
    "\n",
    "# Task 4: Finally \n",
    "# Add a finally block that thanks the user for using the weather forecast application, ensuring that this message is displayed regardless of whether an exception was caught or not."
   ]
  },
  {
   "cell_type": "code",
   "execution_count": 9,
   "metadata": {},
   "outputs": [
    {
     "name": "stdout",
     "output_type": "stream",
     "text": [
      "\n",
      "That is not a valid number. Try again.\n",
      "Thank you for using the weather forecast application!\n",
      "\n",
      "That is not a valid number. Try again.\n",
      "Thank you for using the weather forecast application!\n",
      "\n",
      "78.00 degrees Fahrenheit is 25.56 degrees Celsius.\n",
      "Thank you for using the weather forecast application!\n"
     ]
    }
   ],
   "source": [
    "\n",
    "def temp_conversion():\n",
    "    while True:\n",
    "        # Task 1:\n",
    "        user_temp = input(\"\\nEnter the temperature in Fahrenheit: \")\n",
    "        # Task 2:\n",
    "        try:\n",
    "            f = float(user_temp)\n",
    "            c = (f - 32) * (5/9)\n",
    "        except ValueError:\n",
    "            print(\"\\nThat is not a valid number. Try again.\")\n",
    "            continue\n",
    "        # Task 3:\n",
    "        else:\n",
    "            print(f\"\\n{f:.2f} degrees Fahrenheit is {c:.2f} degrees Celsius.\")\n",
    "            break\n",
    "        # Task 4:\n",
    "        finally:\n",
    "            print(\"Thank you for using the weather forecast application!\")\n",
    "\n",
    "temp_conversion()\n"
   ]
  },
  {
   "cell_type": "code",
   "execution_count": null,
   "metadata": {},
   "outputs": [],
   "source": []
  }
 ],
 "metadata": {
  "kernelspec": {
   "display_name": "Python 3",
   "language": "python",
   "name": "python3"
  },
  "language_info": {
   "codemirror_mode": {
    "name": "ipython",
    "version": 3
   },
   "file_extension": ".py",
   "mimetype": "text/x-python",
   "name": "python",
   "nbconvert_exporter": "python",
   "pygments_lexer": "ipython3",
   "version": "3.12.4"
  }
 },
 "nbformat": 4,
 "nbformat_minor": 2
}
